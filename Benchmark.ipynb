{
 "cells": [
  {
   "cell_type": "markdown",
   "metadata": {},
   "source": [
    "# CPU and GPU Performance Comparison (Benchmark)\n",
    "\n",
    "Author: P. Valchev"
   ]
  },
  {
   "cell_type": "markdown",
   "metadata": {},
   "source": [
    "## Introduction\n",
    "\n",
    "Everone who makes first steps in machine learning is adviced to have better GPU espessially for deep learning projects. However it is unclear about CPU, does more core or processor matter? \n"
   ]
  },
  {
   "cell_type": "markdown",
   "metadata": {},
   "source": [
    "## 1. Working horses"
   ]
  },
  {
   "cell_type": "markdown",
   "metadata": {},
   "source": [
    "Tested configurations\n",
    "\n",
    "![title](img/Tested_systems.png)\n"
   ]
  },
  {
   "cell_type": "markdown",
   "metadata": {},
   "source": [
    "## 2. Training model \n",
    "\n",
    "### 2.1. First training model - 01_Model\n",
    "please find the 01_Model"
   ]
  },
  {
   "cell_type": "markdown",
   "metadata": {},
   "source": [
    "## 3. Result"
   ]
  },
  {
   "cell_type": "markdown",
   "metadata": {},
   "source": [
    "Summary:\n",
    "\n",
    "\n",
    "![title](img/Results.png)"
   ]
  },
  {
   "cell_type": "markdown",
   "metadata": {},
   "source": [
    "## 4. Discussion\n",
    "\n",
    "### 4.1.  \n",
    "\n",
    "Both GPUs perform similar and as expected for simple training models and small datasets slower than CPUs.\n",
    "System 1 has 2 processor units and still is slower that System 2. Tensorflow is not using all available processor cores for calculation.\n",
    "\n",
    "The CPU usage durng model training on System 1 is approx. 12%.\n",
    "![title](img/CPU_usage.png)"
   ]
  },
  {
   "cell_type": "code",
   "execution_count": null,
   "metadata": {},
   "outputs": [],
   "source": []
  }
 ],
 "metadata": {
  "kernelspec": {
   "display_name": "Python 3",
   "language": "python",
   "name": "python3"
  },
  "language_info": {
   "codemirror_mode": {
    "name": "ipython",
    "version": 3
   },
   "file_extension": ".py",
   "mimetype": "text/x-python",
   "name": "python",
   "nbconvert_exporter": "python",
   "pygments_lexer": "ipython3",
   "version": "3.7.4"
  }
 },
 "nbformat": 4,
 "nbformat_minor": 2
}
